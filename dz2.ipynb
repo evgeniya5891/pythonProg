{
 "cells": [
  {
   "cell_type": "markdown",
   "metadata": {},
   "source": [
    "Задание №1"
   ]
  },
  {
   "cell_type": "code",
   "execution_count": 14,
   "metadata": {},
   "outputs": [
    {
     "name": "stdout",
     "output_type": "stream",
     "text": [
      "Фраза 1 длиннее фразы 2\n"
     ]
    }
   ],
   "source": [
    "phrase_1 = '12'\n",
    "phrase_2 = '1'\n",
    "if len(phrase_1) > len(phrase_2):\n",
    "    print (\"Фраза 1 длиннее фразы 2\")\n",
    "elif len(phrase_2) > len(phrase_1):\n",
    "    print (\"Фраза 2 длиннее фразы 1\")\n",
    "else:\n",
    "    print (\"Фразы равной длины\")"
   ]
  },
  {
   "cell_type": "markdown",
   "metadata": {},
   "source": [
    "Задание 2"
   ]
  },
  {
   "cell_type": "code",
   "execution_count": 40,
   "metadata": {},
   "outputs": [
    {
     "name": "stdout",
     "output_type": "stream",
     "text": [
      "Високосный год\n"
     ]
    }
   ],
   "source": [
    "year=1704\n",
    "if not year % 4 == 0:\n",
    "    print (\"Обычный год\")\n",
    "elif not year % 100 == 0:\n",
    "    print (\"Високосный год\")\n",
    "elif year % 400 == 0:\n",
    "    print (\"Високосный год\")\n",
    "else:\n",
    "    print (\"Обычный год\")"
   ]
  },
  {
   "cell_type": "markdown",
   "metadata": {},
   "source": [
    "Задание 3"
   ]
  },
  {
   "cell_type": "code",
   "execution_count": 56,
   "metadata": {},
   "outputs": [
    {
     "name": "stdout",
     "output_type": "stream",
     "text": [
      "Введите день 19\n",
      "Введите месяц Март\n",
      "Рыбы\n"
     ]
    }
   ],
   "source": [
    "day_input = int(input('Введите день ')) \n",
    "month_input = str(input('Введите месяц '))\n",
    "if month_input == \"Январь\" and day_input <= 20:\n",
    "    print (\"Козерок\")\n",
    "elif month_input == \"Январь\" and day_input > 20:\n",
    "    print (\"Водолей\")\n",
    "elif month_input == \"Февраль\" and day_input <= 18:\n",
    "    print (\"Водолей\")\n",
    "elif month_input == \"Февраль\" and day_input > 18:\n",
    "    print (\"Рыбы\")\n",
    "elif month_input == \"Март\" and day_input <= 20:\n",
    "    print (\"Рыбы\")\n",
    "elif month_input == \"Март\" and day_input > 20:\n",
    "    print (\"Овен\")\n",
    "elif month_input == \"Апрель\" and day_input <= 19:\n",
    "    print (\"Овен\")\n",
    "elif month_input == \"Апрель\" and day_input > 19:\n",
    "    print (\"Телец\")\n",
    "elif month_input == \"Май\" and day_input <= 20:\n",
    "    print (\"Телец\")\n",
    "elif month_input == \"Май\" and day_input > 20:\n",
    "    print (\"Близнецы\")\n",
    "elif month_input == \"Июнь\" and day_input <= 21:\n",
    "    print (\"Близнецы\")\n",
    "elif month_input == \"Июнь\" and day_input > 21:\n",
    "    print (\"Рак\")\n",
    "elif month_input == \"Июль\" and day_input <= 22:\n",
    "    print (\"Рак\")\n",
    "elif month_input == \"Июль\" and day_input > 22:\n",
    "    print (\"Лев\")\n",
    "elif month_input == \"Август\" and day_input <= 22:\n",
    "    print (\"Лев\")\n",
    "elif month_input == \"Август\" and day_input > 22:\n",
    "    print (\"Дева\")\n",
    "elif month_input == \"Сентябрь\" and day_input <= 22:\n",
    "    print (\"Дева\")\n",
    "elif month_input == \"Сентябрь\" and day_input > 22:\n",
    "    print (\"Весы\")\n",
    "elif month_input == \"Октябрь\" and day_input <= 23:\n",
    "    print (\"Весы\")\n",
    "elif month_input == \"Октябрь\" and day_input > 23:\n",
    "    print (\"Скорпион\")\n",
    "elif month_input == \"Ноябрь\" and day_input <= 22:\n",
    "    print (\"Скорпион\")\n",
    "elif month_input == \"Ноябрь\" and day_input > 22:\n",
    "    print (\"Стрелец\")\n",
    "elif month_input == \"Декабрь\" and day_input <= 21:\n",
    "    print (\"Стрелец\")\n",
    "elif month_input == \"Декабрь\" and day_input > 21:\n",
    "    print (\"Козерог\")"
   ]
  },
  {
   "cell_type": "code",
   "execution_count": null,
   "metadata": {},
   "outputs": [],
   "source": []
  }
 ],
 "metadata": {
  "kernelspec": {
   "display_name": "Python 3",
   "language": "python",
   "name": "python3"
  },
  "language_info": {
   "codemirror_mode": {
    "name": "ipython",
    "version": 3
   },
   "file_extension": ".py",
   "mimetype": "text/x-python",
   "name": "python",
   "nbconvert_exporter": "python",
   "pygments_lexer": "ipython3",
   "version": "3.8.3"
  }
 },
 "nbformat": 4,
 "nbformat_minor": 4
}
