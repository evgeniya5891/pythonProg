{
 "cells": [
  {
   "cell_type": "markdown",
   "metadata": {},
   "source": [
    "Домашнее задание 7"
   ]
  },
  {
   "cell_type": "markdown",
   "metadata": {},
   "source": [
    "Задание 1\n",
    "Печатные газеты использовали свой формат дат для каждого выпуска. Для каждой газеты из списка напишите формат указанной даты для перевода в объект datetime:\n",
    "    "
   ]
  },
  {
   "cell_type": "code",
   "execution_count": 2,
   "metadata": {},
   "outputs": [],
   "source": [
    "The_Moscow_Times = 'Wednesday, October 2, 2002'\n",
    "The_Guardian = 'Friday, 11.10.13'\n",
    "Daily_News = 'Thursday, 18 August 1977'"
   ]
  },
  {
   "cell_type": "code",
   "execution_count": 36,
   "metadata": {},
   "outputs": [
    {
     "name": "stdout",
     "output_type": "stream",
     "text": [
      "2002-10-02 00:00:00\n"
     ]
    }
   ],
   "source": [
    "from datetime import datetime\n",
    "The_Moscow_Times_puthon = datetime.strptime(The_Moscow_Times, '%A, %B %d, %Y')\n",
    "#The_Moscow_Times_puthon.strftime('%A, %B %d, %Y')\n",
    "print(The_Moscow_Times_puthon) \n"
   ]
  },
  {
   "cell_type": "code",
   "execution_count": 14,
   "metadata": {},
   "outputs": [
    {
     "name": "stdout",
     "output_type": "stream",
     "text": [
      "2013-10-11 00:00:00\n"
     ]
    }
   ],
   "source": [
    "The_Guardian_puthon = datetime.strptime(The_Guardian, '%A, %d.%m.%y')\n",
    "#The_Guardian_puthon.strftime('%A, %d.%m.%y')\n",
    "print(The_Guardian_puthon)"
   ]
  },
  {
   "cell_type": "code",
   "execution_count": 18,
   "metadata": {},
   "outputs": [
    {
     "name": "stdout",
     "output_type": "stream",
     "text": [
      "1977-08-18 00:00:00\n"
     ]
    }
   ],
   "source": [
    "Daily_News_puthon = datetime.strptime(Daily_News, '%A, %d %B %Y')\n",
    "#Daily_News_puthon.strftime('%A, %d %B %Y')\n",
    "print(Daily_News_puthon)"
   ]
  },
  {
   "cell_type": "markdown",
   "metadata": {},
   "source": [
    "Задание 2\n",
    "Дан поток дат в формате YYYY-MM-DD, в которых встречаются некорректные значения:\n",
    "stream = [‘2018-04-02’, ‘2018-02-29’, ‘2018-19-02’]\n",
    "Напишите функцию, которая проверяет эти даты на корректность. Т. е. для каждой даты возвращает True (дата корректна) или False (некорректная дата)."
   ]
  },
  {
   "cell_type": "code",
   "execution_count": 20,
   "metadata": {},
   "outputs": [],
   "source": [
    "stream = ['2018-04-02', '2018-02-29', '2018-19-02']\n",
    "def func(file):\n",
    "    for data in file:\n",
    "        try:\n",
    "            dataTrue = datetime.strptime(data, '%Y-%m-%d')\n",
    "            print(dataTrue, 'True')\n",
    "        except:\n",
    "            print(dataTrue, 'False')\n",
    "            \n",
    "            \n"
   ]
  },
  {
   "cell_type": "code",
   "execution_count": 21,
   "metadata": {},
   "outputs": [
    {
     "name": "stdout",
     "output_type": "stream",
     "text": [
      "2018-04-02 00:00:00 True\n",
      "2018-04-02 00:00:00 False\n",
      "2018-04-02 00:00:00 False\n"
     ]
    }
   ],
   "source": [
    "func(stream)"
   ]
  },
  {
   "cell_type": "markdown",
   "metadata": {},
   "source": [
    "Задание 3\n",
    "Напишите функцию date_range, которая возвращает список дат за период от start_date до end_date. Даты должны вводиться в формате YYYY-MM-DD. В случае неверного формата или при start_date > end_date должен возвращаться пустой список."
   ]
  },
  {
   "cell_type": "code",
   "execution_count": 87,
   "metadata": {},
   "outputs": [],
   "source": [
    "from datetime import timedelta\n",
    "from datetime import datetime"
   ]
  },
  {
   "cell_type": "code",
   "execution_count": 99,
   "metadata": {},
   "outputs": [],
   "source": [
    "def date_range(data_1, data_2):\n",
    "    try:\n",
    "        data1 = datetime.strptime(data_1, '%Y-%m-%d')\n",
    "        \n",
    "        data2 = datetime.strptime(data_2, '%Y-%m-%d')\n",
    "\n",
    "        if data1 > data2:\n",
    "        \n",
    "            print(datelist)\n",
    "        else:\n",
    "            while data1 <= data2:\n",
    "                strdate = datetime.strftime(data1, '%Y-%m-%d')\n",
    "                datelist.append(strdate)\n",
    "                data1 += timedelta(days=1)\n",
    "            print(datelist)\n",
    "    except:\n",
    "        print(datelist)"
   ]
  },
  {
   "cell_type": "code",
   "execution_count": 100,
   "metadata": {},
   "outputs": [
    {
     "name": "stdout",
     "output_type": "stream",
     "text": [
      "Введите первую дату: 2020-02-29\n",
      "Введите вторую дату: 2020-09-05\n",
      "190\n"
     ]
    }
   ],
   "source": [
    "datelist = []\n",
    "start_date = input('Введите первую дату: ')\n",
    "end_date = input('Введите вторую дату: ')\n",
    "\n",
    "    \n",
    "date_range(start_date, end_date)"
   ]
  },
  {
   "cell_type": "code",
   "execution_count": null,
   "metadata": {},
   "outputs": [],
   "source": []
  },
  {
   "cell_type": "code",
   "execution_count": null,
   "metadata": {},
   "outputs": [],
   "source": []
  }
 ],
 "metadata": {
  "kernelspec": {
   "display_name": "Python 3",
   "language": "python",
   "name": "python3"
  },
  "language_info": {
   "codemirror_mode": {
    "name": "ipython",
    "version": 3
   },
   "file_extension": ".py",
   "mimetype": "text/x-python",
   "name": "python",
   "nbconvert_exporter": "python",
   "pygments_lexer": "ipython3",
   "version": "3.8.3"
  }
 },
 "nbformat": 4,
 "nbformat_minor": 4
}
