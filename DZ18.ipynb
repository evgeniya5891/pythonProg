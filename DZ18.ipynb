{
 "cells": [
  {
   "cell_type": "markdown",
   "metadata": {},
   "source": [
    "Смоделировать игру против лотерейного автомата типа “777”. Игрок платит 1 руб., после чего выпадает случайное целое число, равномерно распределенное от 0 до 999. При некоторых значениях числа игрок получает выигрыш (см. справа)\n",
    "\n",
    "Выгодна ли игра игроку?\n",
    "\n",
    "Сколько в среднем приобретает\n",
    "или теряет игрок за одну игру?\n",
    "\n",
    "777: 200 руб.\n",
    "999: 100 руб.\n",
    "555: 50 руб.\n",
    "333: 15 руб.\n",
    "111: 10 руб.\n",
    "*77: 5 руб.\n",
    "**7: 3 руб.\n",
    "*00: 2 руб.\n",
    "**0: 1 руб."
   ]
  },
  {
   "cell_type": "code",
   "execution_count": 4,
   "metadata": {},
   "outputs": [],
   "source": [
    "import numpy as np\n",
    "import re"
   ]
  },
  {
   "cell_type": "code",
   "execution_count": 219,
   "metadata": {},
   "outputs": [
    {
     "name": "stdout",
     "output_type": "stream",
     "text": [
      "[0, 10, 20, 30, 40, 50, 60, 70, 80, 90, 110, 120, 130, 140, 150, 160, 170, 180, 190, 210, 220, 230, 240, 250, 260, 270, 280, 290, 310, 320, 330, 340, 350, 360, 370, 380, 390, 410, 420, 430, 440, 450, 460, 470, 480, 490, 510, 520, 530, 540, 550, 560, 570, 580, 590, 610, 620, 630, 640, 650, 660, 670, 680, 690, 710, 720, 730, 740, 750, 760, 770, 780, 790, 810, 820, 830, 840, 850, 860, 870, 880, 890, 910, 920, 930, 940, 950, 960, 970, 980, 990]\n",
      "[100, 200, 300, 400, 500, 600, 700, 800, 900]\n",
      "[7, 107, 117, 127, 137, 147, 157, 167, 187, 197, 207, 217, 227, 237, 247, 257, 267, 287, 297, 307, 317, 327, 337, 347, 357, 367, 387, 397, 407, 417, 427, 437, 447, 457, 467, 487, 497, 507, 517, 527, 537, 547, 557, 567, 587, 597, 607, 617, 627, 637, 647, 657, 667, 687, 697, 707, 717, 727, 737, 747, 757, 767, 787, 797, 807, 817, 827, 837, 847, 857, 867, 887, 897, 907, 917, 927, 937, 947, 957, 967, 987, 997]\n",
      "[77, 177, 277, 377, 477, 577, 677, 877, 977]\n"
     ]
    }
   ],
   "source": [
    "\n",
    "seven_1 = []\n",
    "seven_2 = []\n",
    "zero_1 = []\n",
    "zero_2 = []\n",
    "for num in range(0, 1000):\n",
    "    s = re.findall(r'\\d[^7]7|7', str(num))\n",
    "    s_2 = re.findall(r'[^777]\\d*77|77', str(num))\n",
    "    z_1 = re.findall(r'\\d[^0]*0|0', str(num))\n",
    "    z_2 = re.findall(r'\\d*0{2}', str(num))\n",
    "    \n",
    "    if str(num) in s:\n",
    "        seven_1.append(num)\n",
    "    if str(num) in s_2:\n",
    "        seven_2.append(num)\n",
    "    if str(num) in z_1:\n",
    "        zero_1.append(num)\n",
    "    if str(num) in z_2:\n",
    "        zero_2.append(num)\n",
    "    \n",
    "print(zero_1)\n",
    "print(zero_2)\n",
    "print(seven_1)\n",
    "print(seven_2)"
   ]
  },
  {
   "cell_type": "code",
   "execution_count": 231,
   "metadata": {},
   "outputs": [
    {
     "name": "stdout",
     "output_type": "stream",
     "text": [
      "-99998.22902\n"
     ]
    }
   ],
   "source": [
    "trials = 100000    # Количество попыток\n",
    "successes = 0    # Количество успехов\n",
    "win = []\n",
    "for i in range(trials):\n",
    "    random_score = np.random.randint(0, 1000)\n",
    "    if random_score == 777:\n",
    "        win.append(200)\n",
    "    elif random_score == 999:\n",
    "        win.append(100)\n",
    "    elif random_score == 555:\n",
    "        win.append(50)\n",
    "    elif random_score == 333:\n",
    "        win.append(15)\n",
    "    elif random_score == 111:\n",
    "        win.append(10)\n",
    "    elif random_score in seven_1:\n",
    "        win.append(3)\n",
    "    elif random_score in seven_2:\n",
    "        win.append(5)\n",
    "    elif random_score in zero_1:\n",
    "        win.append(1)\n",
    "    elif random_score in zero_2:\n",
    "        win.append(2)\n",
    "    else:\n",
    "        win.append(0)\n",
    "true_win = sum(win)/len(win)-(trials-1)\n",
    "print(true_win)"
   ]
  },
  {
   "cell_type": "code",
   "execution_count": null,
   "metadata": {},
   "outputs": [],
   "source": []
  },
  {
   "cell_type": "code",
   "execution_count": null,
   "metadata": {},
   "outputs": [],
   "source": []
  }
 ],
 "metadata": {
  "kernelspec": {
   "display_name": "Python 3",
   "language": "python",
   "name": "python3"
  },
  "language_info": {
   "codemirror_mode": {
    "name": "ipython",
    "version": 3
   },
   "file_extension": ".py",
   "mimetype": "text/x-python",
   "name": "python",
   "nbconvert_exporter": "python",
   "pygments_lexer": "ipython3",
   "version": "3.8.5"
  }
 },
 "nbformat": 4,
 "nbformat_minor": 4
}
