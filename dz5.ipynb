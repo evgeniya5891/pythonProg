{
 "cells": [
  {
   "cell_type": "code",
   "execution_count": null,
   "metadata": {},
   "outputs": [],
   "source": [
    "documents = [\n",
    " {'type': 'passport', 'number': '2207 876234', 'name': 'Василий Гупкин'},\n",
    " {'type': 'invoice', 'number': '11-2', 'name': 'Геннадий Покемонов'},\n",
    " {'type': 'insurance', 'number': '10006', 'name': 'Аристарх Павлов'}\n",
    "]\n",
    "\n",
    "directories = {\n",
    " '1': ['2207 876234', '11-2'],\n",
    " '2': ['10006'],\n",
    " '3': []\n",
    "}"
   ]
  },
  {
   "cell_type": "code",
   "execution_count": 285,
   "metadata": {},
   "outputs": [],
   "source": [
    "def document_owner_num(document_num):\n",
    "    mans = ''\n",
    "    for man in documents:\n",
    "        if man['number'] == str(document_num):\n",
    "            mans = man['name']\n",
    "            break\n",
    "        else:\n",
    "            mans = \"Документ не найден в базе\"\n",
    "    return mans"
   ]
  },
  {
   "cell_type": "code",
   "execution_count": 147,
   "metadata": {},
   "outputs": [
    {
     "data": {
      "text/plain": [
       "'Василий Гупкин'"
      ]
     },
     "execution_count": 147,
     "metadata": {},
     "output_type": "execute_result"
    }
   ],
   "source": [
    "document_owner_num('2207 876234')"
   ]
  },
  {
   "cell_type": "code",
   "execution_count": 331,
   "metadata": {},
   "outputs": [],
   "source": [
    "def num_location(document_num):\n",
    "    local = ''\n",
    "    for plase in directories:\n",
    "        if document_num in directories[plase]:\n",
    "            local = 'Документ хранится на полке: ' + str(plase)\n",
    "            break\n",
    "        else: \n",
    "            local = 'Документ не найден в базе'            \n",
    "    return  local"
   ]
  },
  {
   "cell_type": "code",
   "execution_count": 332,
   "metadata": {},
   "outputs": [
    {
     "data": {
      "text/plain": [
       "'Документ хранится на полке: 1'"
      ]
     },
     "execution_count": 332,
     "metadata": {},
     "output_type": "execute_result"
    }
   ],
   "source": [
    "num_location('11-2')"
   ]
  },
  {
   "cell_type": "code",
   "execution_count": 150,
   "metadata": {},
   "outputs": [],
   "source": [
    "def total_information():\n",
    "    for man in documents:\n",
    "        shelf = num_location(man['number'])\n",
    "        print(f\"№ {man['number']},тип: {man['type']}, владелец: {man['name']}, полка хранения: {shelf}\")"
   ]
  },
  {
   "cell_type": "code",
   "execution_count": 152,
   "metadata": {},
   "outputs": [
    {
     "name": "stdout",
     "output_type": "stream",
     "text": [
      "№ 2207 876234,тип: passport, владелец: Василий Гупкин, полка хранения: 1\n",
      "№ 11-2,тип: invoice, владелец: Геннадий Покемонов, полка хранения: 1\n",
      "№ 10006,тип: insurance, владелец: Аристарх Павлов, полка хранения: 2\n"
     ]
    }
   ],
   "source": [
    "total_information()"
   ]
  },
  {
   "cell_type": "code",
   "execution_count": 308,
   "metadata": {},
   "outputs": [],
   "source": [
    "def new_shelfs(new_shelf):\n",
    "    if new_shelf not in directories:\n",
    "        directories[new_shelf] = []\n",
    "        print(f'Полка добавлена. Текущий перечень полок: {values()}.')\n",
    "    else:\n",
    "        print(f'Такая полка уже существует. Текущий перечень полок: {values()}.')"
   ]
  },
  {
   "cell_type": "code",
   "execution_count": 309,
   "metadata": {},
   "outputs": [
    {
     "name": "stdout",
     "output_type": "stream",
     "text": [
      "Такая полка уже существует. Текущий перечень полок: 1 2 332 .\n"
     ]
    }
   ],
   "source": [
    "new_shelfs('332')"
   ]
  },
  {
   "cell_type": "code",
   "execution_count": 313,
   "metadata": {},
   "outputs": [],
   "source": [
    "def del_shelfs(del_shelf):\n",
    "    if del_shelf in directories:\n",
    "        if directories[del_shelf] == []:\n",
    "            del(directories[del_shelf])\n",
    "            print(f'Полка удалена. Текущий перечень полок: {values()}.')\n",
    "        else:\n",
    "            print(f'На полке есть документы, удалите их перед удалением полки. Текущий перечень полок: {values()}.')\n",
    "    else:\n",
    "        print(f'Такой полки не существует. Текущий перечень полок: {values()}.')\n",
    "        "
   ]
  },
  {
   "cell_type": "code",
   "execution_count": 314,
   "metadata": {},
   "outputs": [
    {
     "name": "stdout",
     "output_type": "stream",
     "text": [
      "Такой полки не существует. Текущий перечень полок:1, 2, 332.\n"
     ]
    }
   ],
   "source": [
    "del_shelfs('3')"
   ]
  },
  {
   "cell_type": "code",
   "execution_count": 311,
   "metadata": {},
   "outputs": [],
   "source": [
    "def values():\n",
    "    str_ = ''\n",
    "    for i in list(directories.keys()):\n",
    "        str_ += i + ', '\n",
    "    return str_[0:-2]"
   ]
  },
  {
   "cell_type": "code",
   "execution_count": 312,
   "metadata": {},
   "outputs": [
    {
     "data": {
      "text/plain": [
       "'1, 2, 332'"
      ]
     },
     "execution_count": 312,
     "metadata": {},
     "output_type": "execute_result"
    }
   ],
   "source": [
    "values()"
   ]
  },
  {
   "cell_type": "code",
   "execution_count": 340,
   "metadata": {},
   "outputs": [
    {
     "name": "stdout",
     "output_type": "stream",
     "text": [
      "Введите команду: ори\n",
      "Введена неверная команда.\n",
      "Введите команду: й\n",
      "Введена неверная команда.\n",
      "Введите команду: ds\n",
      "Введите номер полки: 5\n",
      "Такой полки не существует. Текущий перечень полок:1, 2, 332.\n",
      "Введите команду: q\n"
     ]
    }
   ],
   "source": [
    "while True:\n",
    "    user_input = str(input('Введите команду: '))\n",
    "    if user_input == 'p':\n",
    "        user_input2 = str(input('Введите номер документа: '))\n",
    "        print(document_owner_num(user_input2))\n",
    "    elif user_input == 's':\n",
    "        user_input2 = str(input('Введите номер документа: '))\n",
    "        print(num_location(user_input2))\n",
    "    elif user_input == 'l':\n",
    "        total_information()\n",
    "    elif user_input == 'ads':\n",
    "        user_input2 = str(input('Введите номер полки: '))\n",
    "        new_shelfs(user_input2)\n",
    "    elif user_input == 'ds':\n",
    "        user_input2 = str(input('Введите номер полки: '))\n",
    "        del_shelfs(user_input2)\n",
    "    elif  user_input == 'q':\n",
    "        break\n",
    "    else:\n",
    "        print('Введена неверная команда.')\n",
    "    \n",
    "        "
   ]
  }
 ],
 "metadata": {
  "kernelspec": {
   "display_name": "Python 3",
   "language": "python",
   "name": "python3"
  },
  "language_info": {
   "codemirror_mode": {
    "name": "ipython",
    "version": 3
   },
   "file_extension": ".py",
   "mimetype": "text/x-python",
   "name": "python",
   "nbconvert_exporter": "python",
   "pygments_lexer": "ipython3",
   "version": "3.8.3"
  }
 },
 "nbformat": 4,
 "nbformat_minor": 4
}
